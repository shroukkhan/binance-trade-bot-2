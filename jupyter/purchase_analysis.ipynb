{
 "cells": [
  {
   "cell_type": "code",
   "execution_count": 1,
   "metadata": {
    "collapsed": true
   },
   "outputs": [
    {
     "name": "stdout",
     "output_type": "stream",
     "text": [
      "Client created <binance.client.Client object at 0x00000230F65973A0>\n"
     ]
    }
   ],
   "source": [
    "import configparser\n",
    "\n",
    "import pandas as pd\n",
    "from binance import Client\n",
    "\n",
    "CFG_FL_NAME = \"../user.cfg\"\n",
    "USER_CFG_SECTION = \"binance_user_config\"\n",
    "config = configparser.ConfigParser()\n",
    "config.read(CFG_FL_NAME)\n",
    "\n",
    "api_key = config.get(USER_CFG_SECTION, \"api_key\")\n",
    "api_secret = config.get(USER_CFG_SECTION, \"api_secret_key\")\n",
    "client = Client(api_key, api_secret)\n",
    "\n",
    "print(\"Client created\", client)"
   ]
  },
  {
   "cell_type": "code",
   "execution_count": 2,
   "outputs": [
    {
     "data": {
      "text/plain": "    price   qty  quoteQty           time               timestamp\n0  0.6232  49.0   30.5368  1673688040670 2023-01-14 09:20:40.670",
      "text/html": "<div>\n<style scoped>\n    .dataframe tbody tr th:only-of-type {\n        vertical-align: middle;\n    }\n\n    .dataframe tbody tr th {\n        vertical-align: top;\n    }\n\n    .dataframe thead th {\n        text-align: right;\n    }\n</style>\n<table border=\"1\" class=\"dataframe\">\n  <thead>\n    <tr style=\"text-align: right;\">\n      <th></th>\n      <th>price</th>\n      <th>qty</th>\n      <th>quoteQty</th>\n      <th>time</th>\n      <th>timestamp</th>\n    </tr>\n  </thead>\n  <tbody>\n    <tr>\n      <th>0</th>\n      <td>0.6232</td>\n      <td>49.0</td>\n      <td>30.5368</td>\n      <td>1673688040670</td>\n      <td>2023-01-14 09:20:40.670</td>\n    </tr>\n  </tbody>\n</table>\n</div>"
     },
     "execution_count": 2,
     "metadata": {},
     "output_type": "execute_result"
    }
   ],
   "source": [
    "from datetime import datetime\n",
    "from pandas import json_normalize\n",
    "\n",
    "start_from = \"16:20:35 14/01/2023\"\n",
    "symbol = 'SANDUSDT'\n",
    "\n",
    "start_from_timestamp = int(datetime.strptime(start_from, \"%H:%M:%S %d/%m/%Y\").timestamp())*1000\n",
    "\n",
    "\n",
    "def download_spot_trading_history_for_pair(pair: str, frm: int):\n",
    "    trades = client.get_my_trades(symbol=pair, startTime=frm)\n",
    "    trades_df = json_normalize(trades)\n",
    "    df = trades_df.query('isBuyer == True')\n",
    "    df['timestamp'] = pd.to_datetime(df['time'], unit='ms')\n",
    "    df[['price','qty','quoteQty']] =  df[['price','qty','quoteQty']].apply(lambda x:pd.to_numeric(x,errors='coerce'))\n",
    "    df.sort_values(by='time', ascending=False, inplace=True)\n",
    "    return pd.DataFrame(df, columns=['price', 'qty', 'quoteQty', 'time','timestamp'])\n",
    "\n",
    "\n",
    "t = download_spot_trading_history_for_pair(symbol, start_from_timestamp)\n"
   ],
   "metadata": {
    "collapsed": false
   }
  },
  {
   "cell_type": "code",
   "execution_count": 3,
   "outputs": [
    {
     "data": {
      "text/plain": "price               float64\nqty                 float64\nquoteQty            float64\ntime                  int64\ntimestamp    datetime64[ns]\ndtype: object"
     },
     "execution_count": 3,
     "metadata": {},
     "output_type": "execute_result"
    }
   ],
   "source": [
    "t.dtypes"
   ],
   "metadata": {
    "collapsed": false
   }
  },
  {
   "cell_type": "code",
   "execution_count": 3,
   "outputs": [
    {
     "name": "stdout",
     "output_type": "stream",
     "text": [
      "total_spent: 30.5368 , total_coin : 49.0 , avg price : 0.6232\n"
     ]
    }
   ],
   "source": [
    "## now figure out avg cost of purchase\n",
    "\n",
    "total_spent = t.loc[t['time'] >= start_from_timestamp, 'quoteQty'].sum()\n",
    "\n",
    "total_coin = t.loc[t['time'] >= start_from_timestamp, 'qty'].sum()\n",
    "\n",
    "avg_price_per_coin = total_spent / total_coin\n",
    "\n",
    "print(f'total_spent: {total_spent} , total_coin : {total_coin} , avg price : {avg_price_per_coin}')"
   ],
   "metadata": {
    "collapsed": false
   }
  },
  {
   "cell_type": "code",
   "execution_count": 5,
   "outputs": [
    {
     "data": {
      "text/plain": "VBox(children=(HBox(children=(Label(value='Target Price'), Label(value='11'))), HBox(children=(Label(value='Cu…",
      "application/vnd.jupyter.widget-view+json": {
       "version_major": 2,
       "version_minor": 0,
       "model_id": "98e7e4b4e7734e76807f6f302dbdaaee"
      }
     },
     "metadata": {},
     "output_type": "display_data"
    }
   ],
   "source": [
    "import ipywidgets as widgets\n",
    "\n",
    "target_avg_price_per_coin = 11\n",
    "\n",
    "all_coin_price = client.get_symbol_ticker()\n",
    "current_price_per_coin = float(list(filter(lambda x: x['symbol'] == symbol, all_coin_price))[0]['price'])\n",
    "\n",
    "\n",
    "def get_avg_price(total_spent_amount: float, amount_of_coins: float) -> float:\n",
    "\n",
    "    __total_spent = total_spent + float(total_spent_amount)\n",
    "    __total_coins = float(amount_of_coins) + total_coin\n",
    "    return __total_spent / __total_coins\n",
    "\n",
    "\n",
    "def get_total_coins(spent_amount):\n",
    "    return float(spent_amount / current_price_per_coin)\n",
    "\n",
    "\n",
    "total_purchase_slider = widgets.IntSlider(min=0, step=25, max=500, value=100)\n",
    "total_number_of_coins = widgets.Label(value=f'{get_total_coins(total_purchase_slider.value)}')\n",
    "total_avg_value = widgets.Label(value=f'{get_avg_price(total_purchase_slider.value, total_number_of_coins.value)}')\n",
    "\n",
    "\n",
    "def on_value_changed(change):\n",
    "    tc = get_total_coins(change['new'])\n",
    "    total_number_of_coins.value = str(tc)\n",
    "    total_avg_value.value = str(get_avg_price(change['new'], tc))\n",
    "\n",
    "\n",
    "total_purchase_slider.observe(on_value_changed, names='value')\n",
    "\n",
    "target_box = widgets.HBox([widgets.Label(value='Target Price'), widgets.Label(value=f'{target_avg_price_per_coin}')])\n",
    "current_price = widgets.HBox(\n",
    "    [widgets.Label(value='Current Price per coin'), widgets.Label(value=f'{current_price_per_coin}')])\n",
    "\n",
    "purchase_amount = widgets.HBox([widgets.Label(value='Purchase Amount (USD)'), total_purchase_slider])\n",
    "purchased_coins = widgets.HBox([widgets.Label(value=f'Purchased Coins ({symbol})'), total_number_of_coins])\n",
    "total_avg = widgets.HBox([widgets.Label(value=f'Total Avg'), total_avg_value])\n",
    "\n",
    "w = widgets.VBox([target_box, current_price, purchase_amount, purchased_coins, total_avg, ])\n",
    "display(w)\n"
   ],
   "metadata": {
    "collapsed": false
   }
  },
  {
   "cell_type": "code",
   "execution_count": 10,
   "outputs": [
    {
     "name": "stdout",
     "output_type": "stream",
     "text": [
      "alt_trade_amount = 63.73831045406546\n",
      "crypto_starting_balance = 754.1866\n",
      "crypto_trade_amount = 754.1866\n",
      "\n"
     ]
    }
   ],
   "source": [
    "__total_spent = total_spent + float(total_purchase_slider.value)\n",
    "__total_coins = get_total_coins(float(total_purchase_slider.value)) + total_coin\n",
    "\n",
    "print(f\"\"\"alt_trade_amount = {__total_coins}\n",
    "crypto_starting_balance = {__total_spent}\n",
    "crypto_trade_amount = {__total_spent}\n",
    "\"\"\")"
   ],
   "metadata": {
    "collapsed": false
   }
  },
  {
   "cell_type": "markdown",
   "source": [
    "import sqlite3\n",
    "\n",
    "\n",
    "def copy_sqlite_table_rows_between_two_database(from_db: str, to_db: str, table_name: str , insert_command:str):\n",
    "    '''\n",
    "    Copy sqlite table rows between two database\n",
    "    '''\n",
    "    print(f'Copying table : {table_name}')\n",
    "    from_conn = sqlite3.connect(from_db)\n",
    "    to_conn = sqlite3.connect(to_db)\n",
    "    from_conn.row_factory = sqlite3.Row\n",
    "    cur = from_conn.cursor()\n",
    "    cur.execute(\"SELECT * FROM %s\" % table_name)\n",
    "    rows = cur.fetchall()\n",
    "    \n",
    "    to_cursor = to_conn.cursor()\n",
    "    to_cursor.execute(\"DELETE FROM \" + table_name)\n",
    "    to_conn.commit()\n",
    "    \n",
    "    to_conn.executemany(insert_command % table_name, rows)\n",
    "    to_conn.commit()\n",
    "    from_conn.close()\n",
    "    to_conn.close()\n",
    "\n",
    "\n",
    "from_db = \"C:/AgodaGit/binance-trade-bot-on-nexus-sync/data1/crypto_trading.db\"\n",
    "to_db = \"C:/AgodaGit/binance-trade-bot/data/crypto_trading.db\"\n",
    "\n",
    "\n",
    "copy_sqlite_table_rows_between_two_database(\n",
    "    from_db,\n",
    "    to_db,\n",
    "    'pairs',\n",
    "    \"INSERT INTO %s VALUES (?,?,?,?)\"\n",
    ")\n",
    "\n",
    "# from_conn = sqlite3.connect(from_db)\n",
    "# from_cursor = from_conn.cursor()\n",
    "# from_cursor.execute(\"SELECT name FROM sqlite_master WHERE type='table';\")\n",
    "# from_tables = from_cursor.fetchall()\n",
    "# from_conn.close()\n",
    "\n",
    "# for i in from_tables:\n",
    "#     \n",
    "#     copy_sqlite_table_rows_between_two_database(\n",
    "#         from_db,\n",
    "#         to_db,\n",
    "#         i[0]\n",
    "#     )\n",
    "\n",
    "\n",
    "\n",
    "\n"
   ],
   "metadata": {
    "collapsed": false
   }
  },
  {
   "cell_type": "code",
   "execution_count": 13,
   "outputs": [
    {
     "ename": "ModuleNotFoundError",
     "evalue": "No module named 'btb_manager_telegram'",
     "output_type": "error",
     "traceback": [
      "\u001B[1;31m---------------------------------------------------------------------------\u001B[0m",
      "\u001B[1;31mModuleNotFoundError\u001B[0m                       Traceback (most recent call last)",
      "Input \u001B[1;32mIn [13]\u001B[0m, in \u001B[0;36m<module>\u001B[1;34m\u001B[0m\n\u001B[0;32m      8\u001B[0m \u001B[38;5;28;01mfrom\u001B[39;00m \u001B[38;5;21;01mbinance_trade_bot\u001B[39;00m\u001B[38;5;21;01m.\u001B[39;00m\u001B[38;5;21;01mlogger\u001B[39;00m \u001B[38;5;28;01mimport\u001B[39;00m Logger\n\u001B[0;32m      9\u001B[0m \u001B[38;5;28;01mfrom\u001B[39;00m \u001B[38;5;21;01mtelegrambot\u001B[39;00m\u001B[38;5;21;01m.\u001B[39;00m\u001B[38;5;21;01mbtb_manager_telegram\u001B[39;00m\u001B[38;5;21;01m.\u001B[39;00m\u001B[38;5;21;01mtable\u001B[39;00m \u001B[38;5;28;01mimport\u001B[39;00m tabularize\n\u001B[1;32m---> 10\u001B[0m \u001B[38;5;28;01mfrom\u001B[39;00m \u001B[38;5;21;01mtelegrambot\u001B[39;00m\u001B[38;5;21;01m.\u001B[39;00m\u001B[38;5;21;01mbtb_manager_telegram\u001B[39;00m\u001B[38;5;21;01m.\u001B[39;00m\u001B[38;5;21;01mutils\u001B[39;00m \u001B[38;5;28;01mimport\u001B[39;00m i18n_format, telegram_text_truncator\n\u001B[0;32m     12\u001B[0m \u001B[38;5;28;01mdef\u001B[39;00m \u001B[38;5;21mcurrent_ratios\u001B[39m(ROOT_PATH:\u001B[38;5;28mstr\u001B[39m \u001B[38;5;241m=\u001B[39m \u001B[38;5;28;01mNone\u001B[39;00m):\n\u001B[0;32m     13\u001B[0m     logger \u001B[38;5;241m=\u001B[39m Logger()\n",
      "File \u001B[1;32mC:\\AgodaGit\\binance-trade-bot\\jupyter\\..\\telegrambot\\btb_manager_telegram\\utils.py:15\u001B[0m, in \u001B[0;36m<module>\u001B[1;34m\u001B[0m\n\u001B[0;32m     12\u001B[0m \u001B[38;5;28;01mfrom\u001B[39;00m \u001B[38;5;21;01mtelegram\u001B[39;00m\u001B[38;5;21;01m.\u001B[39;00m\u001B[38;5;21;01mutils\u001B[39;00m\u001B[38;5;21;01m.\u001B[39;00m\u001B[38;5;21;01mhelpers\u001B[39;00m \u001B[38;5;28;01mimport\u001B[39;00m escape_markdown\n\u001B[0;32m     14\u001B[0m \u001B[38;5;28;01mimport\u001B[39;00m \u001B[38;5;21;01mi18n\u001B[39;00m\n\u001B[1;32m---> 15\u001B[0m \u001B[38;5;28;01mfrom\u001B[39;00m \u001B[38;5;21;01mbtb_manager_telegram\u001B[39;00m \u001B[38;5;28;01mimport\u001B[39;00m logger, scheduler, settings\n\u001B[0;32m     18\u001B[0m \u001B[38;5;28;01mdef\u001B[39;00m \u001B[38;5;21msetup_i18n\u001B[39m(lang):\n\u001B[0;32m     19\u001B[0m     i18n\u001B[38;5;241m.\u001B[39mset(\u001B[38;5;124m\"\u001B[39m\u001B[38;5;124mlocale\u001B[39m\u001B[38;5;124m\"\u001B[39m, lang)\n",
      "\u001B[1;31mModuleNotFoundError\u001B[0m: No module named 'btb_manager_telegram'"
     ]
    }
   ],
   "source": [
    "import sys\n",
    "\n",
    "sys.path.append('../')\n",
    "\n",
    "import os\n",
    "import sqlite3\n",
    "from configparser import ConfigParser\n",
    "from binance_trade_bot.logger import Logger\n",
    "from telegrambot.btb_manager_telegram.table import tabularize\n",
    "from telegrambot.btb_manager_telegram.utils import i18n_format, telegram_text_truncator\n",
    "\n",
    "def current_ratios(ROOT_PATH:str = None):\n",
    "    logger = Logger()\n",
    "    logger.info(\"Next coin button pressed.\")\n",
    "\n",
    "    db_file_path = os.path.join(ROOT_PATH, \"data/crypto_trading.db\")\n",
    "    user_cfg_file_path = os.path.join(ROOT_PATH, \"user.cfg\")\n",
    "    message = [f\"{i18n_format('database_not_found', path=db_file_path)}\"]\n",
    "    if os.path.exists(db_file_path):\n",
    "        try:\n",
    "            # Get bridge currency symbol\n",
    "            with open(user_cfg_file_path) as cfg:\n",
    "                config = ConfigParser()\n",
    "                config.read_file(cfg)\n",
    "                bridge = config.get(\"binance_user_config\", \"bridge\")\n",
    "                scout_multiplier = config.get(\"binance_user_config\", \"scout_multiplier\")\n",
    "                try:  # scout_margin Edgen\n",
    "                    scout_margin = (\n",
    "                            float(config.get(\"binance_user_config\", \"scout_margin\")) / 100.0\n",
    "                    )\n",
    "                    use_margin = config.get(\"binance_user_config\", \"use_margin\")\n",
    "                except Exception as e:\n",
    "                    use_margin = \"no\"\n",
    "                try:  # scout_margin TnTwist\n",
    "                    ratio_calc = config.get(\"binance_user_config\", \"ratio_calc\")\n",
    "                except Exception as e:\n",
    "                    ratio_calc = \"default\"\n",
    "                if ratio_calc == \"scout_margin\":\n",
    "                    scout_multiplier = float(scout_multiplier) / 100.0\n",
    "\n",
    "            con = sqlite3.connect(db_file_path)\n",
    "            cur = con.cursor()\n",
    "\n",
    "            # Get prices and percentages for a jump to the next coin\n",
    "            try:\n",
    "                if use_margin == \"yes\":  # scout_margin Edgen\n",
    "                    logger.info(f\"Margin ratio Edgen\")\n",
    "                    cur.execute(\n",
    "                        f\"\"\"SELECT p.to_coin_id as other_coin, sh.other_coin_price, (1-0.001*0.001-0.002) * current_coin_price / (sh.target_ratio *(1+{scout_margin})) AS 'price_needs_to_drop_to', (1-0.001*0.001-0.002) * current_coin_price / (sh.target_ratio *(1+{scout_margin})) / sh.other_coin_price as 'percentage'  FROM scout_history sh JOIN pairs p ON p.id = sh.pair_id WHERE p.from_coin_id = (SELECT alt_coin_id FROM trade_history ORDER BY datetime DESC LIMIT 1) ORDER BY sh.datetime DESC, percentage DESC LIMIT (SELECT count(DISTINCT pairs.to_coin_id) FROM pairs JOIN coins ON coins.symbol = pairs.to_coin_id WHERE coins.enabled = 1 AND pairs.from_coin_id=(SELECT alt_coin_id FROM trade_history ORDER BY datetime DESC LIMIT 1));\"\"\"\n",
    "                    )\n",
    "                elif ratio_calc == \"scout_margin\":  # scout_margin TnTwist\n",
    "                    logger.info(f\"Margin ratio TnTwist\")\n",
    "                    cur.execute(\n",
    "                        f\"\"\"SELECT p.to_coin_id as other_coin, sh.other_coin_price, (1-0.001*0.001-0.002) * current_coin_price / (sh.target_ratio *(1+{scout_multiplier})) AS 'price_needs_to_drop_to', (1-0.001*0.001-0.002) * current_coin_price / (sh.target_ratio *(1+{scout_multiplier})) / sh.other_coin_price as 'percentage'  FROM scout_history sh JOIN pairs p ON p.id = sh.pair_id WHERE p.from_coin_id = (SELECT alt_coin_id FROM trade_history ORDER BY datetime DESC LIMIT 1) ORDER BY sh.datetime DESC, percentage DESC LIMIT (SELECT count(DISTINCT pairs.to_coin_id) FROM pairs JOIN coins ON coins.symbol = pairs.to_coin_id WHERE coins.enabled = 1 AND pairs.from_coin_id=(SELECT alt_coin_id FROM trade_history ORDER BY datetime DESC LIMIT 1));\"\"\"\n",
    "                    )\n",
    "                else:  # default\n",
    "                    logger.info(f\"Margin ratio default\")\n",
    "                    cur.execute(\n",
    "                        f\"\"\"\n",
    "                        SELECT p.to_coin_id                                                                               as other_coin,\n",
    "                               sh.other_coin_price,\n",
    "                               \n",
    "                               (current_coin_price - 0.001 * '{scout_multiplier}' * current_coin_price) / sh.target_ratio AS 'price_needs_to_drop_to',\n",
    "                               \n",
    "                               ((current_coin_price - 0.001 * '{scout_multiplier}' * current_coin_price) / sh.target_ratio) / sh.other_coin_price  as 'percentage'\n",
    "                        \n",
    "                        FROM scout_history sh\n",
    "                                 JOIN pairs p ON p.id = sh.pair_id\n",
    "                        WHERE p.from_coin_id = (SELECT alt_coin_id FROM trade_history ORDER BY datetime DESC LIMIT 1) --- get the current coin by taking the last row of the trade_history table\n",
    "                        ORDER BY sh.datetime DESC, percentage DESC\n",
    "                        LIMIT (SELECT count(DISTINCT pairs.to_coin_id)\n",
    "                               FROM pairs\n",
    "                                        JOIN coins ON coins.symbol = pairs.to_coin_id\n",
    "                               WHERE coins.enabled = 1\n",
    "                                 AND pairs.from_coin_id = (SELECT alt_coin_id FROM trade_history ORDER BY datetime DESC LIMIT 1))\n",
    "                        \"\"\"\n",
    "                    )\n",
    "                query = cur.fetchall()\n",
    "                m_list = []\n",
    "                query = sorted(query, key=lambda x: x[3], reverse=True)\n",
    "\n",
    "                m_list.extend(\n",
    "                    tabularize(\n",
    "                        [\n",
    "                            i18n_format(\"next_coin.coin\"),\n",
    "                            i18n_format(\"next_coin.percentage\"),\n",
    "                            i18n_format(\"next_coin.current_price\"),\n",
    "                            i18n_format(\"next_coin.target_price\"),\n",
    "                        ],\n",
    "                        [\n",
    "                            [c[0] for c in query],\n",
    "                            [str(round(c[3] * 100, 2)) for c in query],\n",
    "                            [c[1] for c in query],\n",
    "                            [c[2] for c in query],\n",
    "                        ],\n",
    "                        [6, 7, 8, 8],\n",
    "                        add_spaces=[True, True, False, False],\n",
    "                        align=[\"center\", \"left\", \"left\", \"left\"],\n",
    "                    )\n",
    "                )\n",
    "\n",
    "                message = telegram_text_truncator(m_list)\n",
    "                con.close()\n",
    "            except Exception as e:\n",
    "                logger.error(\n",
    "                    f\"❌ Something went wrong, unable to generate next coin at this time: {e}\",\n",
    "                    exc_info=True,\n",
    "                )\n",
    "                con.close()\n",
    "                return [\n",
    "                    i18n_format(\"next_coin.error\"),\n",
    "                    i18n_format(\"logging_enabled_error\"),\n",
    "                ]\n",
    "        except Exception as e:\n",
    "            logger.error(\n",
    "                f\"❌ Unable to perform actions on the database: {e}\", exc_info=True\n",
    "            )\n",
    "            message = [i18n_format(\"next_coin.db_error\")]\n",
    "    return message\n",
    "\n",
    "x = current_ratios(\"C:\\\\AgodaGit\\\\binance-trade-bot\")\n",
    "\n",
    "print('\\n'.join(str(i) for i in x))"
   ],
   "metadata": {
    "collapsed": false
   }
  },
  {
   "cell_type": "markdown",
   "source": [
    "### calculate ratio and figure out why it does not change !!!!!!\n",
    "import sys\n",
    "\n",
    "sys.path.append('../')\n",
    "\n",
    "from binance_trade_bot.config import Config\n",
    "from binance_trade_bot.database import Database\n",
    "from binance_trade_bot.logger import Logger\n",
    "from binance_trade_bot.auto_trader import AutoTrader\n",
    "from binance_trade_bot.binance_api_manager import BinanceAPIManager\n",
    "from binance_trade_bot.strategies import get_strategy\n",
    "from binance_trade_bot.database import CoinStub\n",
    "\n",
    "logger = Logger()\n",
    "config = Config(config_file_path='../user.cfg')\n",
    "db = Database(logger, config)\n",
    "manager = BinanceAPIManager.create_manager_paper_trading(config, db, logger, {config.BRIDGE.symbol: 1_000.0})\n",
    "strategy = get_strategy(config.STRATEGY)\n",
    "trader: AutoTrader = strategy(manager, db, logger, config)\n",
    "coinStub = CoinStub.get_by_symbol(symbol)\n",
    "coin_sell_price = current_price_per_coin\n",
    "quote_amount = __total_spent\n",
    "coin_amount = __total_coins\n",
    "trader._jump_to_best_coin(\n",
    "    coinStub, coin_sell_price, quote_amount, coin_amount\n",
    ")\n",
    "\n",
    "\n"
   ],
   "metadata": {
    "collapsed": false
   }
  },
  {
   "cell_type": "code",
   "execution_count": null,
   "outputs": [],
   "source": [],
   "metadata": {
    "collapsed": false
   }
  }
 ],
 "metadata": {
  "kernelspec": {
   "name": "binance-trade-bot",
   "language": "python",
   "display_name": "PyCharm (binance-trade-bot)"
  },
  "language_info": {
   "codemirror_mode": {
    "name": "ipython",
    "version": 2
   },
   "file_extension": ".py",
   "mimetype": "text/x-python",
   "name": "python",
   "nbconvert_exporter": "python",
   "pygments_lexer": "ipython2",
   "version": "2.7.6"
  }
 },
 "nbformat": 4,
 "nbformat_minor": 0
}
