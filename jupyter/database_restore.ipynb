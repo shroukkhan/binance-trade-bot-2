{
 "cells": [
  {
   "cell_type": "code",
   "execution_count": 1,
   "metadata": {
    "collapsed": true,
    "pycharm": {
     "name": "#%%\n"
    }
   },
   "outputs": [
    {
     "name": "stdout",
     "output_type": "stream",
     "text": [
      "Client created <binance.client.Client object at 0x00000253E9E693A0>\n"
     ]
    }
   ],
   "source": [
    "import configparser\n",
    "\n",
    "import pandas as pd\n",
    "from binance import Client\n",
    "\n",
    "CFG_FL_NAME = \"../user.cfg\"\n",
    "USER_CFG_SECTION = \"binance_user_config\"\n",
    "config = configparser.ConfigParser()\n",
    "config.read(CFG_FL_NAME)\n",
    "\n",
    "api_key = config.get(USER_CFG_SECTION, \"api_key\")\n",
    "api_secret = config.get(USER_CFG_SECTION, \"api_secret_key\")\n",
    "client = Client(api_key, api_secret)\n",
    "\n",
    "print(\"Client created\", client)"
   ]
  },
  {
   "cell_type": "code",
   "execution_count": 2,
   "outputs": [
    {
     "name": "stdout",
     "output_type": "stream",
     "text": [
      "local : 2022-11-09 22:57:51\n",
      "gmt : 2022-11-09 15:57:51\n",
      "MANA = 0.5437 , SOL = 18.55, ratio : MANA/SOL = 0.0293099730458221\n"
     ]
    }
   ],
   "source": [
    "from datetime import datetime, timedelta\n",
    "\n",
    "\n",
    "# download ohlc candle at specific timestamp from binance\n",
    "def download_ohlc_1_min_candle_from_binance_for_pair_at_timestamp(pair:str,timestamp:int):\n",
    "\n",
    "    # download the klines (OHLC candles) for the given symbol and timestamp\n",
    "    klines = client.get_historical_klines(\n",
    "        symbol=pair,\n",
    "        interval=Client.KLINE_INTERVAL_1MINUTE,\n",
    "        start_str=timestamp,\n",
    "        end_str= timestamp + 1*60*1000# 1 minute, 1 candle\n",
    "    )\n",
    "    # extract the closing price from the klines\n",
    "    closing_price = float(klines[0][4])\n",
    "\n",
    "    return closing_price\n",
    "\n",
    "## test above function\n",
    "sample_time = \"22:57:51 09/11/2022\" # 2022-11-09 15:57:51.295978\n",
    "local_time = datetime.strptime(sample_time, \"%H:%M:%S %d/%m/%Y\")\n",
    "# Convert the local time to GMT time\n",
    "gmt_time = local_time - timedelta(hours=7)\n",
    "\n",
    "print(f'local : {local_time}')\n",
    "print(f'gmt : {gmt_time}')\n",
    "\n",
    "sample_timestamp = int(gmt_time.timestamp()) * 1000\n",
    "\n",
    "a_coin = 'MANA'\n",
    "b_coin = 'SOL'\n",
    "\n",
    "a = download_ohlc_1_min_candle_from_binance_for_pair_at_timestamp(f'{a_coin}USDT', sample_timestamp)\n",
    "b = download_ohlc_1_min_candle_from_binance_for_pair_at_timestamp(f'{b_coin}USDT', sample_timestamp)\n",
    "\n",
    "ratio = a/b\n",
    "\n",
    "print(f'{a_coin} = {a} , {b_coin} = {b}, ratio : {a_coin}/{b_coin} = {ratio}')"
   ],
   "metadata": {
    "collapsed": false,
    "pycharm": {
     "name": "#%%\n"
    }
   }
  },
  {
   "cell_type": "code",
   "execution_count": 3,
   "outputs": [],
   "source": [
    "import sys\n",
    "\n",
    "sys.path.append('../')\n",
    "\n",
    "import os\n",
    "import sqlite3\n",
    "\n",
    "ROOT_PATH = r'C:\\AgodaGit\\binance-trade-bot'\n",
    "db_file_path = os.path.join(ROOT_PATH, \"data2/crypto_trading.db\")\n",
    "con = sqlite3.connect(db_file_path)\n",
    "cur = con.cursor()"
   ],
   "metadata": {
    "collapsed": false,
    "pycharm": {
     "name": "#%%\n"
    }
   }
  },
  {
   "cell_type": "code",
   "execution_count": 4,
   "outputs": [
    {
     "data": {
      "text/plain": "['ETH',\n 'ADA',\n 'XRP',\n 'EOS',\n 'XLM',\n 'ETC',\n 'VET',\n 'LINK',\n 'THETA',\n 'MATIC',\n 'DOGE',\n 'SOL',\n 'MANA',\n 'SAND',\n 'DOT',\n 'RUNE',\n 'FIL']"
     },
     "execution_count": 4,
     "metadata": {},
     "output_type": "execute_result"
    }
   ],
   "source": [
    "enabled_coins = cur.execute('SELECT symbol from coins where enabled = 1').fetchall()\n",
    "\n",
    "enabled_coins =  [item for tpl in enabled_coins for item in tpl]\n",
    "enabled_coins"
   ],
   "metadata": {
    "collapsed": false,
    "pycharm": {
     "name": "#%%\n"
    }
   }
  },
  {
   "cell_type": "code",
   "execution_count": 7,
   "outputs": [
    {
     "data": {
      "text/plain": "    symbol         id     orderId  orderListId  price   qty  quoteQty  \\\n2  SOLUSDT  334827949  3487139398           -1  13.82  1.36   18.7952   \n0  SOLUSDT  323296673  3382922668           -1  15.87  0.25    3.9675   \n1  SOLUSDT  323296674  3382922668           -1  15.87  0.53    8.4111   \n\n   commission commissionAsset           time  isBuyer  isMaker  isBestMatch  \\\n2  0.00005739             BNB  1672762145453    False    False         True   \n0  0.00001051             BNB  1668009471177     True    False         True   \n1  0.00002229             BNB  1668009471177     True    False         True   \n\n                timestamp buy_sell  \n2 2023-01-03 16:09:05.453     SELL  \n0 2022-11-09 15:57:51.177      BUY  \n1 2022-11-09 15:57:51.177      BUY  ",
      "text/html": "<div>\n<style scoped>\n    .dataframe tbody tr th:only-of-type {\n        vertical-align: middle;\n    }\n\n    .dataframe tbody tr th {\n        vertical-align: top;\n    }\n\n    .dataframe thead th {\n        text-align: right;\n    }\n</style>\n<table border=\"1\" class=\"dataframe\">\n  <thead>\n    <tr style=\"text-align: right;\">\n      <th></th>\n      <th>symbol</th>\n      <th>id</th>\n      <th>orderId</th>\n      <th>orderListId</th>\n      <th>price</th>\n      <th>qty</th>\n      <th>quoteQty</th>\n      <th>commission</th>\n      <th>commissionAsset</th>\n      <th>time</th>\n      <th>isBuyer</th>\n      <th>isMaker</th>\n      <th>isBestMatch</th>\n      <th>timestamp</th>\n      <th>buy_sell</th>\n    </tr>\n  </thead>\n  <tbody>\n    <tr>\n      <th>2</th>\n      <td>SOLUSDT</td>\n      <td>334827949</td>\n      <td>3487139398</td>\n      <td>-1</td>\n      <td>13.82</td>\n      <td>1.36</td>\n      <td>18.7952</td>\n      <td>0.00005739</td>\n      <td>BNB</td>\n      <td>1672762145453</td>\n      <td>False</td>\n      <td>False</td>\n      <td>True</td>\n      <td>2023-01-03 16:09:05.453</td>\n      <td>SELL</td>\n    </tr>\n    <tr>\n      <th>0</th>\n      <td>SOLUSDT</td>\n      <td>323296673</td>\n      <td>3382922668</td>\n      <td>-1</td>\n      <td>15.87</td>\n      <td>0.25</td>\n      <td>3.9675</td>\n      <td>0.00001051</td>\n      <td>BNB</td>\n      <td>1668009471177</td>\n      <td>True</td>\n      <td>False</td>\n      <td>True</td>\n      <td>2022-11-09 15:57:51.177</td>\n      <td>BUY</td>\n    </tr>\n    <tr>\n      <th>1</th>\n      <td>SOLUSDT</td>\n      <td>323296674</td>\n      <td>3382922668</td>\n      <td>-1</td>\n      <td>15.87</td>\n      <td>0.53</td>\n      <td>8.4111</td>\n      <td>0.00002229</td>\n      <td>BNB</td>\n      <td>1668009471177</td>\n      <td>True</td>\n      <td>False</td>\n      <td>True</td>\n      <td>2022-11-09 15:57:51.177</td>\n      <td>BUY</td>\n    </tr>\n  </tbody>\n</table>\n</div>"
     },
     "execution_count": 7,
     "metadata": {},
     "output_type": "execute_result"
    }
   ],
   "source": [
    "from datetime import datetime\n",
    "from pandas import json_normalize\n",
    "\n",
    "\n",
    "def convert_to_unix_timestamp(date_time_str):\n",
    "    date_obj = datetime.strptime(date_time_str, '%Y-%m-%d %H:%M:%S.%f')\n",
    "    timestamp = int(date_obj.timestamp()) * 1000\n",
    "    return timestamp\n",
    "\n",
    "\n",
    "symbol = 'SOLUSDT'\n",
    "\n",
    "start_from_timestamp = convert_to_unix_timestamp('2022-11-09 15:57:51.295')\n",
    "\n",
    "\n",
    "def download_spot_trading_history_for_pair(pair: str, frm: int):\n",
    "    trades = client.get_my_trades(symbol=pair, startTime=frm)\n",
    "    trades_df = json_normalize(trades)\n",
    "    df = trades_df#.query(f'isBuyer == {is_buyer}')\n",
    "    df['timestamp'] = pd.to_datetime(df['time'], unit='ms')\n",
    "    df[['price', 'qty', 'quoteQty']] = df[['price', 'qty', 'quoteQty']].apply(\n",
    "        lambda x: pd.to_numeric(x, errors='coerce'))\n",
    "    df.sort_values(by='time', ascending=False, inplace=True)\n",
    "    df['buy_sell'] = df['isBuyer'].apply(lambda x: 'BUY' if x else 'SELL')\n",
    "    return df\n",
    "    # return pd.DataFrame(df, columns=['price', 'buy_sell', 'qty', 'quoteQty', 'time', 'timestamp'])\n",
    "\n",
    "\n",
    "t = download_spot_trading_history_for_pair(symbol, start_from_timestamp)\n",
    "\n",
    "t"
   ],
   "metadata": {
    "collapsed": false,
    "pycharm": {
     "name": "#%%\n"
    }
   }
  },
  {
   "cell_type": "code",
   "execution_count": 8,
   "outputs": [
    {
     "name": "stderr",
     "output_type": "stream",
     "text": [
      "C:\\Users\\skhan\\AppData\\Local\\Temp\\ipykernel_3488\\1748545717.py:6: FutureWarning: The frame.append method is deprecated and will be removed from pandas in a future version. Use pandas.concat instead.\n",
      "  result = result.append(download_spot_trading_history_for_pair(f'{p}USDT',start_from_timestamp))\n",
      "C:\\Users\\skhan\\AppData\\Local\\Temp\\ipykernel_3488\\1748545717.py:6: FutureWarning: The frame.append method is deprecated and will be removed from pandas in a future version. Use pandas.concat instead.\n",
      "  result = result.append(download_spot_trading_history_for_pair(f'{p}USDT',start_from_timestamp))\n"
     ]
    },
    {
     "data": {
      "text/plain": "     symbol         id     orderId  orderListId    price    qty  quoteQty  \\\n0  SANDUSDT  175480805  2387167116           -1   0.6232  49.00   30.5368   \n2  MANAUSDT  179975016  1833425514           -1   0.5601  55.00   30.8055   \n1  MANAUSDT  179111309  1821312376           -1   0.3091  60.00   18.5460   \n2   SOLUSDT  334827949  3487139398           -1  13.8200   1.36   18.7952   \n0   SOLUSDT  323296673  3382922668           -1  15.8700   0.25    3.9675   \n1   SOLUSDT  323296674  3382922668           -1  15.8700   0.53    8.4111   \n0  MANAUSDT  177291539  1784290174           -1   0.5160  24.00   12.3840   \n\n   commission commissionAsset           time  isBuyer  isMaker  isBestMatch  \\\n0  0.00007665             BNB  1673688040670     True    False         True   \n2  0.00007688             BNB  1673688040576    False    False         True   \n1  0.00005633             BNB  1672762146638     True    False         True   \n2  0.00005739             BNB  1672762145453    False    False         True   \n0  0.00001051             BNB  1668009471177     True    False         True   \n1  0.00002229             BNB  1668009471177     True    False         True   \n0  0.00003193             BNB  1668009471083    False    False         True   \n\n                timestamp buy_sell  \n0 2023-01-14 09:20:40.670      BUY  \n2 2023-01-14 09:20:40.576     SELL  \n1 2023-01-03 16:09:06.638      BUY  \n2 2023-01-03 16:09:05.453     SELL  \n0 2022-11-09 15:57:51.177      BUY  \n1 2022-11-09 15:57:51.177      BUY  \n0 2022-11-09 15:57:51.083     SELL  ",
      "text/html": "<div>\n<style scoped>\n    .dataframe tbody tr th:only-of-type {\n        vertical-align: middle;\n    }\n\n    .dataframe tbody tr th {\n        vertical-align: top;\n    }\n\n    .dataframe thead th {\n        text-align: right;\n    }\n</style>\n<table border=\"1\" class=\"dataframe\">\n  <thead>\n    <tr style=\"text-align: right;\">\n      <th></th>\n      <th>symbol</th>\n      <th>id</th>\n      <th>orderId</th>\n      <th>orderListId</th>\n      <th>price</th>\n      <th>qty</th>\n      <th>quoteQty</th>\n      <th>commission</th>\n      <th>commissionAsset</th>\n      <th>time</th>\n      <th>isBuyer</th>\n      <th>isMaker</th>\n      <th>isBestMatch</th>\n      <th>timestamp</th>\n      <th>buy_sell</th>\n    </tr>\n  </thead>\n  <tbody>\n    <tr>\n      <th>0</th>\n      <td>SANDUSDT</td>\n      <td>175480805</td>\n      <td>2387167116</td>\n      <td>-1</td>\n      <td>0.6232</td>\n      <td>49.00</td>\n      <td>30.5368</td>\n      <td>0.00007665</td>\n      <td>BNB</td>\n      <td>1673688040670</td>\n      <td>True</td>\n      <td>False</td>\n      <td>True</td>\n      <td>2023-01-14 09:20:40.670</td>\n      <td>BUY</td>\n    </tr>\n    <tr>\n      <th>2</th>\n      <td>MANAUSDT</td>\n      <td>179975016</td>\n      <td>1833425514</td>\n      <td>-1</td>\n      <td>0.5601</td>\n      <td>55.00</td>\n      <td>30.8055</td>\n      <td>0.00007688</td>\n      <td>BNB</td>\n      <td>1673688040576</td>\n      <td>False</td>\n      <td>False</td>\n      <td>True</td>\n      <td>2023-01-14 09:20:40.576</td>\n      <td>SELL</td>\n    </tr>\n    <tr>\n      <th>1</th>\n      <td>MANAUSDT</td>\n      <td>179111309</td>\n      <td>1821312376</td>\n      <td>-1</td>\n      <td>0.3091</td>\n      <td>60.00</td>\n      <td>18.5460</td>\n      <td>0.00005633</td>\n      <td>BNB</td>\n      <td>1672762146638</td>\n      <td>True</td>\n      <td>False</td>\n      <td>True</td>\n      <td>2023-01-03 16:09:06.638</td>\n      <td>BUY</td>\n    </tr>\n    <tr>\n      <th>2</th>\n      <td>SOLUSDT</td>\n      <td>334827949</td>\n      <td>3487139398</td>\n      <td>-1</td>\n      <td>13.8200</td>\n      <td>1.36</td>\n      <td>18.7952</td>\n      <td>0.00005739</td>\n      <td>BNB</td>\n      <td>1672762145453</td>\n      <td>False</td>\n      <td>False</td>\n      <td>True</td>\n      <td>2023-01-03 16:09:05.453</td>\n      <td>SELL</td>\n    </tr>\n    <tr>\n      <th>0</th>\n      <td>SOLUSDT</td>\n      <td>323296673</td>\n      <td>3382922668</td>\n      <td>-1</td>\n      <td>15.8700</td>\n      <td>0.25</td>\n      <td>3.9675</td>\n      <td>0.00001051</td>\n      <td>BNB</td>\n      <td>1668009471177</td>\n      <td>True</td>\n      <td>False</td>\n      <td>True</td>\n      <td>2022-11-09 15:57:51.177</td>\n      <td>BUY</td>\n    </tr>\n    <tr>\n      <th>1</th>\n      <td>SOLUSDT</td>\n      <td>323296674</td>\n      <td>3382922668</td>\n      <td>-1</td>\n      <td>15.8700</td>\n      <td>0.53</td>\n      <td>8.4111</td>\n      <td>0.00002229</td>\n      <td>BNB</td>\n      <td>1668009471177</td>\n      <td>True</td>\n      <td>False</td>\n      <td>True</td>\n      <td>2022-11-09 15:57:51.177</td>\n      <td>BUY</td>\n    </tr>\n    <tr>\n      <th>0</th>\n      <td>MANAUSDT</td>\n      <td>177291539</td>\n      <td>1784290174</td>\n      <td>-1</td>\n      <td>0.5160</td>\n      <td>24.00</td>\n      <td>12.3840</td>\n      <td>0.00003193</td>\n      <td>BNB</td>\n      <td>1668009471083</td>\n      <td>False</td>\n      <td>False</td>\n      <td>True</td>\n      <td>2022-11-09 15:57:51.083</td>\n      <td>SELL</td>\n    </tr>\n  </tbody>\n</table>\n</div>"
     },
     "execution_count": 8,
     "metadata": {},
     "output_type": "execute_result"
    }
   ],
   "source": [
    "plan = ['SOL','MANA','SAND']\n",
    "\n",
    "result = download_spot_trading_history_for_pair(f'{plan[0]}USDT',start_from_timestamp)\n",
    "\n",
    "for p in plan[1:]:\n",
    "    result = result.append(download_spot_trading_history_for_pair(f'{p}USDT',start_from_timestamp))\n",
    "\n",
    "result.sort_values(by='time', ascending=False, inplace=True)\n",
    "result"
   ],
   "metadata": {
    "collapsed": false,
    "pycharm": {
     "name": "#%%\n"
    }
   }
  },
  {
   "cell_type": "code",
   "execution_count": 9,
   "outputs": [
    {
     "data": {
      "text/plain": "     symbol buy_sell               timestamp\n0  SANDUSDT      BUY 2023-01-14 09:20:40.670\n2  MANAUSDT     SELL 2023-01-14 09:20:40.576\n1  MANAUSDT      BUY 2023-01-03 16:09:06.638\n2   SOLUSDT     SELL 2023-01-03 16:09:05.453\n0   SOLUSDT      BUY 2022-11-09 15:57:51.177\n1   SOLUSDT      BUY 2022-11-09 15:57:51.177\n0  MANAUSDT     SELL 2022-11-09 15:57:51.083",
      "text/html": "<div>\n<style scoped>\n    .dataframe tbody tr th:only-of-type {\n        vertical-align: middle;\n    }\n\n    .dataframe tbody tr th {\n        vertical-align: top;\n    }\n\n    .dataframe thead th {\n        text-align: right;\n    }\n</style>\n<table border=\"1\" class=\"dataframe\">\n  <thead>\n    <tr style=\"text-align: right;\">\n      <th></th>\n      <th>symbol</th>\n      <th>buy_sell</th>\n      <th>timestamp</th>\n    </tr>\n  </thead>\n  <tbody>\n    <tr>\n      <th>0</th>\n      <td>SANDUSDT</td>\n      <td>BUY</td>\n      <td>2023-01-14 09:20:40.670</td>\n    </tr>\n    <tr>\n      <th>2</th>\n      <td>MANAUSDT</td>\n      <td>SELL</td>\n      <td>2023-01-14 09:20:40.576</td>\n    </tr>\n    <tr>\n      <th>1</th>\n      <td>MANAUSDT</td>\n      <td>BUY</td>\n      <td>2023-01-03 16:09:06.638</td>\n    </tr>\n    <tr>\n      <th>2</th>\n      <td>SOLUSDT</td>\n      <td>SELL</td>\n      <td>2023-01-03 16:09:05.453</td>\n    </tr>\n    <tr>\n      <th>0</th>\n      <td>SOLUSDT</td>\n      <td>BUY</td>\n      <td>2022-11-09 15:57:51.177</td>\n    </tr>\n    <tr>\n      <th>1</th>\n      <td>SOLUSDT</td>\n      <td>BUY</td>\n      <td>2022-11-09 15:57:51.177</td>\n    </tr>\n    <tr>\n      <th>0</th>\n      <td>MANAUSDT</td>\n      <td>SELL</td>\n      <td>2022-11-09 15:57:51.083</td>\n    </tr>\n  </tbody>\n</table>\n</div>"
     },
     "execution_count": 9,
     "metadata": {},
     "output_type": "execute_result"
    }
   ],
   "source": [
    "tmp = pd.DataFrame(result, columns=['symbol', 'buy_sell', 'timestamp'])\n",
    "tmp"
   ],
   "metadata": {
    "collapsed": false,
    "pycharm": {
     "name": "#%%\n"
    }
   }
  },
  {
   "cell_type": "code",
   "execution_count": 10,
   "outputs": [],
   "source": [
    "class Trade:\n",
    "    def __init__(self, alt_coin_id, crypto_coin_id, selling, state, alt_starting_balance, alt_trade_amount, crypto_starting_balance, crypto_trade_amount, datetime):\n",
    "        self.alt_coin_id = alt_coin_id\n",
    "        self.crypto_coin_id = crypto_coin_id\n",
    "        self.selling = selling\n",
    "        self.state = state\n",
    "        self.alt_starting_balance = alt_starting_balance\n",
    "        self.alt_trade_amount = alt_trade_amount\n",
    "        self.crypto_starting_balance = crypto_starting_balance\n",
    "        self.crypto_trade_amount = crypto_trade_amount\n",
    "        self.datetime = datetime\n",
    "\n",
    "    # def __str__(self):\n",
    "    #     return f\"Trade(alt_coin_id={self.alt_coin_id}, crypto_coin_id={self.crypto_coin_id}, selling={self.selling}, state={self.state}, alt_starting_balance={self.alt_starting_balance}, alt_trade_amount={self.alt_trade_amount}, crypto_starting_balance={self.crypto_starting_balance}, crypto_trade_amount={self.crypto_trade_amount}, datetime={self.datetime})\"\n",
    "\n",
    "    def __str__(self):\n",
    "        return f\"{self.alt_coin_id}, {self.selling}, {self.alt_trade_amount}, {self.crypto_trade_amount}, datetime={self.datetime}\"\n",
    "\n",
    "    def to_tuple(self):\n",
    "        return (self.alt_coin_id, self.crypto_coin_id, self.selling, self.state, self.alt_starting_balance, self.alt_trade_amount, self.crypto_starting_balance, self.crypto_trade_amount, self.datetime)\n"
   ],
   "metadata": {
    "collapsed": false,
    "pycharm": {
     "name": "#%%\n"
    }
   }
  },
  {
   "cell_type": "code",
   "execution_count": 18,
   "outputs": [
    {
     "name": "stdout",
     "output_type": "stream",
     "text": [
      "('MANA', 'USDT', True, 'COMPLETE', 24.0, 24.0, 12.384, 12.384, Timestamp('2022-11-09 15:57:51.083000'))\n",
      "('SOL', 'USDT', False, 'COMPLETE', 2.14, 2.14, 31.1738, 31.1738, Timestamp('2022-11-09 15:57:51.177000'))\n",
      "('MANA', 'USDT', False, 'COMPLETE', 115.0, 115.0, 49.3515, 49.3515, Timestamp('2023-01-03 16:09:06.638000'))\n",
      "('SAND', 'USDT', False, 'COMPLETE', 49.0, 49.0, 30.5368, 30.5368, Timestamp('2023-01-14 09:20:40.670000'))\n"
     ]
    }
   ],
   "source": [
    "result.sort_values(by='time', ascending=True, inplace=True)\n",
    "\n",
    "last_symbol = ''\n",
    "\n",
    "rows = []\n",
    "\n",
    "current_coin = ''\n",
    "for index, row in result.iterrows():\n",
    "    symbol = row['symbol'].replace('USDT','')\n",
    "\n",
    "    if current_coin == '' or current_coin != symbol:\n",
    "        current_trade_history = Trade(\n",
    "            alt_coin_id=symbol,\n",
    "            crypto_coin_id='USDT',\n",
    "            selling = not row['isBuyer'],\n",
    "            state='COMPLETE',\n",
    "            alt_starting_balance=row['qty'],\n",
    "            alt_trade_amount=row['qty'],\n",
    "            crypto_starting_balance=row['quoteQty'],\n",
    "            crypto_trade_amount=row['quoteQty'],\n",
    "            datetime=row['timestamp']\n",
    "        )\n",
    "        rows.append(current_trade_history)\n",
    "        current_coin = symbol\n",
    "    else:\n",
    "        current_trade_history:Trade = rows[-1]\n",
    "        current_trade_history.alt_starting_balance += row['qty']\n",
    "        current_trade_history.alt_trade_amount += row['qty']\n",
    "\n",
    "        current_trade_history.crypto_starting_balance += row['quoteQty']\n",
    "        current_trade_history.crypto_trade_amount += row['quoteQty']\n",
    "\n",
    "    #print(current_trade_history)\n",
    "\n",
    "for r in rows:\n",
    "    print(r.to_tuple())"
   ],
   "metadata": {
    "collapsed": false,
    "pycharm": {
     "name": "#%%\n"
    }
   }
  },
  {
   "cell_type": "code",
   "execution_count": 20,
   "outputs": [
    {
     "ename": "ProgrammingError",
     "evalue": "Cannot operate on a closed cursor.",
     "output_type": "error",
     "traceback": [
      "\u001B[1;31m---------------------------------------------------------------------------\u001B[0m",
      "\u001B[1;31mProgrammingError\u001B[0m                          Traceback (most recent call last)",
      "Input \u001B[1;32mIn [20]\u001B[0m, in \u001B[0;36m<module>\u001B[1;34m\u001B[0m\n\u001B[1;32m----> 1\u001B[0m \u001B[43mcur\u001B[49m\u001B[38;5;241;43m.\u001B[39;49m\u001B[43mexecute\u001B[49m\u001B[43m(\u001B[49m\u001B[38;5;124;43m'\u001B[39;49m\u001B[38;5;124;43mSELECT * FROM trade_history ORDER BY datetime DESC LIMIT 1\u001B[39;49m\u001B[38;5;124;43m'\u001B[39;49m\u001B[43m)\u001B[49m\n\u001B[0;32m      2\u001B[0m last_row \u001B[38;5;241m=\u001B[39m cur\u001B[38;5;241m.\u001B[39mfetchone()\n\u001B[0;32m      4\u001B[0m last_index \u001B[38;5;241m=\u001B[39m last_row[\u001B[38;5;241m0\u001B[39m]\n",
      "\u001B[1;31mProgrammingError\u001B[0m: Cannot operate on a closed cursor."
     ]
    }
   ],
   "source": [
    "cur.execute('SELECT * FROM trade_history ORDER BY datetime DESC LIMIT 1')\n",
    "last_row = cur.fetchone()\n",
    "\n",
    "last_index = last_row[0]\n",
    "\n",
    "cur.close()\n",
    "con.close()"
   ],
   "metadata": {
    "collapsed": false,
    "pycharm": {
     "name": "#%%\n"
    }
   }
  },
  {
   "cell_type": "code",
   "execution_count": 21,
   "outputs": [
    {
     "data": {
      "text/plain": "1668009471"
     },
     "execution_count": 21,
     "metadata": {},
     "output_type": "execute_result"
    }
   ],
   "source": [
    "t = rows[0].datetime\n",
    "int(t.timestamp())"
   ],
   "metadata": {
    "collapsed": false,
    "pycharm": {
     "name": "#%%\n"
    }
   }
  },
  {
   "cell_type": "code",
   "execution_count": 22,
   "outputs": [],
   "source": [
    "conn = sqlite3.connect(db_file_path)\n",
    "cursor = conn.cursor()\n",
    "insert_list = [(last_index + idx + 1,\n",
    "                coin.alt_coin_id,\n",
    "                coin.crypto_coin_id,\n",
    "                coin.selling,\n",
    "                coin.state,\n",
    "                coin.alt_starting_balance,\n",
    "                coin.alt_trade_amount,\n",
    "                coin.crypto_starting_balance,\n",
    "                coin.crypto_trade_amount,\n",
    "                coin.datetime.strftime('%Y-%m-%d %H:%M:%S')\n",
    "                ) for idx, coin in enumerate(rows)]\n",
    "\n",
    "insert_command = \"INSERT INTO trade_history VALUES (?,?,?,?,?,?,?,?,?,?)\"\n",
    "for i in insert_list:\n",
    "    #print(insert_command)\n",
    "    cursor.execute(insert_command,i)\n",
    "\n",
    "conn.commit()\n",
    "conn.close()\n"
   ],
   "metadata": {
    "collapsed": false,
    "pycharm": {
     "name": "#%%\n"
    }
   }
  },
  {
   "cell_type": "markdown",
   "source": [],
   "metadata": {
    "collapsed": false,
    "pycharm": {
     "name": "#%% md\n"
    }
   }
  },
  {
   "cell_type": "code",
   "execution_count": 23,
   "outputs": [
    {
     "data": {
      "text/plain": "{('ETH', 'ADA'): 4335.484772282761,\n ('ETH', 'XRP'): 3858.9156926137775,\n ('ETH', 'EOS'): 1466.6068052930057,\n ('ETH', 'XLM'): 17814.810562571758,\n ('ETH', 'ETC'): 66.65249140893471,\n ('ETH', 'VET'): 74707.27010110737,\n ('ETH', 'LINK'): 225.86171761280931,\n ('ETH', 'THETA'): 1688.4330794341677,\n ('ETH', 'MATIC'): 1583.3367346938776,\n ('ETH', 'DOGE'): 17582.662889518415,\n ('ETH', 'SOL'): 69.86357496623143,\n ('ETH', 'MANA'): 2759.5056019918193,\n ('ETH', 'SAND'): 2389.022324865281,\n ('ETH', 'DOT'): 274.6318584070796,\n ('ETH', 'RUNE'): 891.764367816092,\n ('ETH', 'FIL'): 355.6429062571625,\n ('ADA', 'ETH'): 0.00023065471395335347,\n ('ADA', 'XRP'): 0.8900770952499378,\n ('ADA', 'EOS'): 0.3382797731568998,\n ('ADA', 'XLM'): 4.109070034443169,\n ('ADA', 'ETC'): 0.015373711340206184,\n ('ADA', 'VET'): 17.231584015406835,\n ('ADA', 'LINK'): 0.052096069868995634,\n ('ADA', 'THETA'): 0.38944504896626764,\n ('ADA', 'MATIC'): 0.36520408163265305,\n ('ADA', 'DOGE'): 4.055524079320113,\n ('ADA', 'SOL'): 0.016114362899594777,\n ('ADA', 'MANA'): 0.6364929752800995,\n ('ADA', 'SAND'): 0.5510392609699769,\n ('ADA', 'DOT'): 0.06334513274336283,\n ('ADA', 'RUNE'): 0.2056896551724138,\n ('ADA', 'FIL'): 0.08203071281228512,\n ('XRP', 'ETH'): 0.00025914015222308867,\n ('XRP', 'ADA'): 1.1234981838502376,\n ('XRP', 'EOS'): 0.38005671077504727,\n ('XRP', 'XLM'): 4.6165327210103335,\n ('XRP', 'ETC'): 0.01727233676975945,\n ('XRP', 'VET'): 19.359653346172365,\n ('XRP', 'LINK'): 0.058529839883551676,\n ('XRP', 'THETA'): 0.43754080522306854,\n ('XRP', 'MATIC'): 0.4103061224489796,\n ('XRP', 'DOGE'): 4.556373937677054,\n ('XRP', 'SOL'): 0.018104457451598378,\n ('XRP', 'MANA'): 0.715098701760626,\n ('XRP', 'SAND'): 0.6190916089299462,\n ('XRP', 'DOT'): 0.07116814159292036,\n ('XRP', 'RUNE'): 0.23109195402298852,\n ('XRP', 'FIL'): 0.09216135686454274,\n ('EOS', 'ETH'): 0.0006818460110719418,\n ('EOS', 'ADA'): 2.9561329980441466,\n ('EOS', 'XRP'): 2.631186272071624,\n ('EOS', 'XLM'): 12.14695752009185,\n ('EOS', 'ETC'): 0.045446735395189,\n ('EOS', 'VET'): 50.93885411651421,\n ('EOS', 'LINK'): 0.15400291120815138,\n ('EOS', 'THETA'): 1.1512513601741023,\n ('EOS', 'MATIC'): 1.079591836734694,\n ('EOS', 'DOGE'): 11.988668555240794,\n ('EOS', 'SOL'): 0.04763619990995047,\n ('EOS', 'MANA'): 1.8815578872487997,\n ('EOS', 'SAND'): 1.6289453425712088,\n ('EOS', 'DOT'): 0.1872566371681416,\n ('EOS', 'RUNE'): 0.6080459770114943,\n ('EOS', 'FIL'): 0.24249369699747877,\n ('XLM', 'ETH'): 5.613306953153699e-05,\n ('XLM', 'ADA'): 0.243364068175468,\n ('XLM', 'XRP'): 0.21661278288982838,\n ('XLM', 'EOS'): 0.08232514177693762,\n ('XLM', 'ETC'): 0.0037414089347079034,\n ('XLM', 'VET'): 4.193548387096774,\n ('XLM', 'LINK'): 0.012678311499272198,\n ('XLM', 'THETA'): 0.09477693144722524,\n ('XLM', 'MATIC'): 0.08887755102040816,\n ('XLM', 'DOGE'): 0.9869688385269122,\n ('XLM', 'SOL'): 0.003921656911301215,\n ('XLM', 'MANA'): 0.1548995198292726,\n ('XLM', 'SAND'): 0.13410315627405697,\n ('XLM', 'DOT'): 0.015415929203539822,\n ('XLM', 'RUNE'): 0.05005747126436781,\n ('XLM', 'FIL'): 0.01996332798533119,\n ('ETC', 'ETH'): 0.015003190111299438,\n ('ETC', 'ADA'): 65.04610226320202,\n ('ETC', 'XRP'): 57.89604575976126,\n ('ETC', 'EOS'): 22.003780718336483,\n ('ETC', 'XLM'): 267.2789896670494,\n ('ETC', 'VET'): 1120.8473760231102,\n ('ETC', 'LINK'): 3.388646288209607,\n ('ETC', 'THETA'): 25.331882480957564,\n ('ETC', 'MATIC'): 23.75510204081633,\n ('ETC', 'DOGE'): 263.7960339943343,\n ('ETC', 'SOL'): 1.0481764970733904,\n ('ETC', 'MANA'): 41.40138715987907,\n ('ETC', 'SAND'): 35.84295612009238,\n ('ETC', 'DOT'): 4.120353982300885,\n ('ETC', 'RUNE'): 13.379310344827587,\n ('ETC', 'FIL'): 5.335778134311253,\n ('VET', 'ETH'): 1.338557811905882e-05,\n ('VET', 'ADA'): 0.058032970103380835,\n ('VET', 'XRP'): 0.051653817458343694,\n ('VET', 'EOS'): 0.019631379962192816,\n ('VET', 'XLM'): 0.23846153846153847,\n ('VET', 'ETC'): 0.0008921821305841924,\n ('VET', 'LINK'): 0.0030232896652110626,\n ('VET', 'THETA'): 0.022600652883569095,\n ('VET', 'MATIC'): 0.02119387755102041,\n ('VET', 'DOGE'): 0.23535410764872522,\n ('VET', 'SOL'): 0.0009351643403872129,\n ('VET', 'MANA'): 0.036937577805441935,\n ('VET', 'SAND'): 0.03197844495765974,\n ('VET', 'DOT'): 0.0036761061946902654,\n ('VET', 'RUNE'): 0.011936781609195403,\n ('VET', 'FIL'): 0.004760485904194361,\n ('LINK', 'ETH'): 0.004427487803463365,\n ('LINK', 'ADA'): 19.19530595138307,\n ('LINK', 'XRP'): 17.085302163640886,\n ('LINK', 'EOS'): 6.493383742911153,\n ('LINK', 'XLM'): 78.87485648679679,\n ('LINK', 'ETC'): 0.29510309278350516,\n ('LINK', 'VET'): 330.7655272026962,\n ('LINK', 'THETA'): 7.475516866158868,\n ('LINK', 'MATIC'): 7.010204081632653,\n ('LINK', 'DOGE'): 77.84702549575071,\n ('LINK', 'SOL'): 0.3093201260693381,\n ('LINK', 'MANA'): 12.21767739640761,\n ('LINK', 'SAND'): 10.577367205542727,\n ('LINK', 'DOT'): 1.215929203539823,\n ('LINK', 'RUNE'): 3.9482758620689657,\n ('LINK', 'FIL'): 1.574604629841852,\n ('THETA', 'ETH'): 0.0005922651079159873,\n ('THETA', 'ADA'): 2.567756356524169,\n ('THETA', 'XRP'): 2.285501119124596,\n ('THETA', 'EOS'): 0.8686200378071833,\n ('THETA', 'XLM'): 10.551090700344432,\n ('THETA', 'ETC'): 0.03947594501718213,\n ('THETA', 'VET'): 44.24650938854116,\n ('THETA', 'LINK'): 0.13377001455604076,\n ('THETA', 'MATIC'): 0.9377551020408164,\n ('THETA', 'DOGE'): 10.413597733711049,\n ('THETA', 'SOL'): 0.041377757766771724,\n ('THETA', 'MANA'): 1.6343588831584563,\n ('THETA', 'SAND'): 1.4149345650500387,\n ('THETA', 'DOT'): 0.16265486725663716,\n ('THETA', 'RUNE'): 0.5281609195402299,\n ('THETA', 'FIL'): 0.21063488425395369,\n ('MATIC', 'ETH'): 0.0006315775905959385,\n ('MATIC', 'ADA'): 2.7381950265437274,\n ('MATIC', 'XRP'): 2.437204675453867,\n ('MATIC', 'EOS'): 0.9262759924385633,\n ('MATIC', 'XLM'): 11.251435132032148,\n ('MATIC', 'ETC'): 0.042096219931271474,\n ('MATIC', 'VET'): 47.18343765045739,\n ('MATIC', 'LINK'): 0.14264919941775836,\n ('MATIC', 'THETA'): 1.0663764961915125,\n ('MATIC', 'DOGE'): 11.104815864022664,\n ('MATIC', 'SOL'): 0.04412426834759117,\n ('MATIC', 'MANA'): 1.742841899341988,\n ('MATIC', 'SAND'): 1.508852963818322,\n ('MATIC', 'DOT'): 0.17345132743362832,\n ('MATIC', 'RUNE'): 0.5632183908045977,\n ('MATIC', 'FIL'): 0.2246160898464359,\n ('DOGE', 'ETH'): 5.6874206500093444e-05,\n ('DOGE', 'ADA'): 0.24657725621682033,\n ('DOGE', 'XRP'): 0.21947276796816712,\n ('DOGE', 'EOS'): 0.08341209829867674,\n ('DOGE', 'XLM'): 1.013203214695752,\n ('DOGE', 'ETC'): 0.0037908075601374566,\n ('DOGE', 'VET'): 4.248916706788637,\n ('DOGE', 'LINK'): 0.01284570596797671,\n ('DOGE', 'THETA'): 0.09602829162132752,\n ('DOGE', 'MATIC'): 0.09005102040816326,\n ('DOGE', 'SOL'): 0.003973435389464205,\n ('DOGE', 'MANA'): 0.15694469144584738,\n ('DOGE', 'SAND'): 0.13587374903772131,\n ('DOGE', 'DOT'): 0.01561946902654867,\n ('DOGE', 'RUNE'): 0.050718390804597696,\n ('DOGE', 'FIL'): 0.020226908090763232,\n ('SOL', 'ETH'): 0.014313610497077342,\n ('SOL', 'ADA'): 62.05644034646549,\n ('SOL', 'XRP'): 55.235016165133054,\n ('SOL', 'EOS'): 20.99243856332703,\n ('SOL', 'XLM'): 254.99425947187143,\n ('SOL', 'ETC'): 0.9540378006872852,\n ('SOL', 'VET'): 1069.3307655272026,\n ('SOL', 'LINK'): 3.232896652110626,\n ('SOL', 'THETA'): 24.167573449401523,\n ('SOL', 'MATIC'): 22.66326530612245,\n ('SOL', 'DOGE'): 251.671388101983,\n ('SOL', 'MANA'): 39.49848835141383,\n ('SOL', 'SAND'): 34.19553502694381,\n ('SOL', 'DOT'): 3.9309734513274335,\n ('SOL', 'RUNE'): 12.764367816091955,\n ('SOL', 'FIL'): 5.090534036213614,\n ('MANA', 'ETH'): 0.0003623837542776492,\n ('MANA', 'ADA'): 1.5711092483934062,\n ('MANA', 'XRP'): 1.3984083561303158,\n ('MANA', 'EOS'): 0.5314744801512288,\n ('MANA', 'XLM'): 6.455797933409874,\n ('MANA', 'ETC'): 0.024153780068728523,\n ('MANA', 'VET'): 27.072701011073665,\n ('MANA', 'LINK'): 0.0818486171761281,\n ('MANA', 'THETA'): 0.611860718171926,\n ('MANA', 'MATIC'): 0.5737755102040817,\n ('MANA', 'DOGE'): 6.3716713881019835,\n ('MANA', 'SOL'): 0.025317424583520938,\n ('MANA', 'SAND'): 0.8657428791377983,\n ('MANA', 'DOT'): 0.09952212389380531,\n ('MANA', 'RUNE'): 0.3231609195402299,\n ('MANA', 'FIL'): 0.1288792115516846,\n ('SAND', 'ETH'): 0.0004185812705021041,\n ('SAND', 'ADA'): 1.8147527242246437,\n ('SAND', 'XRP'): 1.6152698333747824,\n ('SAND', 'EOS'): 0.6138941398865784,\n ('SAND', 'XLM'): 7.456946039035591,\n ('SAND', 'ETC'): 0.027899484536082472,\n ('SAND', 'VET'): 31.27106403466538,\n ('SAND', 'LINK'): 0.0945414847161572,\n ('SAND', 'THETA'): 0.706746463547334,\n ('SAND', 'MATIC'): 0.6627551020408163,\n ('SAND', 'DOGE'): 7.359773371104816,\n ('SAND', 'SOL'): 0.029243583971184147,\n ('SAND', 'MANA'): 1.1550773608394094,\n ('SAND', 'DOT'): 0.11495575221238936,\n ('SAND', 'RUNE'): 0.3732758620689655,\n ('SAND', 'FIL'): 0.1488654595461838,\n ('DOT', 'ETH'): 0.00364123814986434,\n ('DOT', 'ADA'): 15.786532550991899,\n ('DOT', 'XRP'): 14.051231037055459,\n ('DOT', 'EOS'): 5.340264650283554,\n ('DOT', 'XLM'): 64.86796785304249,\n ('DOT', 'ETC'): 0.2426975945017182,\n ('DOT', 'VET'): 272.0269619643717,\n ('DOT', 'LINK'): 0.8224163027656478,\n ('DOT', 'THETA'): 6.147986942328618,\n ('DOT', 'MATIC'): 5.76530612244898,\n ('DOT', 'DOGE'): 64.02266288951841,\n ('DOT', 'SOL'): 0.2543899144529491,\n ('DOT', 'MANA'): 10.048017072736974,\n ('DOT', 'SAND'): 8.69899923017706,\n ('DOT', 'RUNE'): 3.2471264367816093,\n ('DOT', 'FIL'): 1.2949805179922071,\n ('RUNE', 'ETH'): 0.0011213724567723806,\n ('RUNE', 'ADA'): 4.861693210393965,\n ('RUNE', 'XRP'): 4.327281770703805,\n ('RUNE', 'EOS'): 1.6446124763705103,\n ('RUNE', 'XLM'): 19.97703788748565,\n ('RUNE', 'ETC'): 0.07474226804123711,\n ('RUNE', 'VET'): 83.7746750120366,\n ('RUNE', 'LINK'): 0.25327510917030566,\n ('RUNE', 'THETA'): 1.8933623503808488,\n ('RUNE', 'MATIC'): 1.7755102040816326,\n ('RUNE', 'DOGE'): 19.71671388101983,\n ('RUNE', 'SOL'): 0.07834308869878433,\n ('RUNE', 'MANA'): 3.0944335763827135,\n ('RUNE', 'SAND'): 2.678983833718245,\n ('RUNE', 'DOT'): 0.3079646017699115,\n ('RUNE', 'FIL'): 0.39880815952326376,\n ('FIL', 'ETH'): 0.002811809212010286,\n ('FIL', 'ADA'): 12.190556021234983,\n ('FIL', 'XRP'): 10.850534692862473,\n ('FIL', 'EOS'): 4.123818525519849,\n ('FIL', 'XLM'): 50.09184845005741,\n ('FIL', 'ETC'): 0.18741408934707904,\n ('FIL', 'VET'): 210.06259027443429,\n ('FIL', 'LINK'): 0.6350800582241631,\n ('FIL', 'THETA'): 4.747551686615887,\n ('FIL', 'MATIC'): 4.452040816326531,\n ('FIL', 'DOGE'): 49.439093484419274,\n ('FIL', 'SOL'): 0.1964430436740207,\n ('FIL', 'MANA'): 7.759203272274587,\n ('FIL', 'SAND'): 6.717474980754427,\n ('FIL', 'DOT'): 0.772212389380531,\n ('FIL', 'RUNE'): 2.5074712643678163}"
     },
     "execution_count": 23,
     "metadata": {},
     "output_type": "execute_result"
    }
   ],
   "source": [
    "coin_price = {}\n",
    "time =  \"2023-01-14 09:20:40\" ## this is when We LAST jumped\n",
    "timestamp = int(datetime.strptime(time, \"%Y-%m-%d %H:%M:%S\").timestamp()) * 1000\n",
    "for coin in enabled_coins:\n",
    "    coin_price[coin] = download_ohlc_1_min_candle_from_binance_for_pair_at_timestamp(f'{coin}USDT',timestamp)\n",
    "\n",
    "\n",
    "# calculate all ratios\n",
    "pairs = {}\n",
    "for from_coin in enabled_coins:\n",
    "    for to_coin in enabled_coins:\n",
    "        if from_coin != to_coin:\n",
    "            pair = (from_coin,to_coin)\n",
    "            ratio = coin_price[from_coin] / coin_price[to_coin]\n",
    "            pairs[pair] = ratio\n",
    "\n",
    "pairs"
   ],
   "metadata": {
    "collapsed": false,
    "pycharm": {
     "name": "#%%\n"
    }
   }
  },
  {
   "cell_type": "code",
   "execution_count": 5,
   "outputs": [
    {
     "name": "stdout",
     "output_type": "stream",
     "text": [
      "Copying from coins\n",
      "Copying from current_coin_history\n",
      "Copying from pairs\n",
      "Copying from trade_history\n"
     ]
    }
   ],
   "source": [
    "import sqlite3\n",
    "\n",
    "# Connect to source database and retrieve cursor\n",
    "src_conn = sqlite3.connect(r\"C:\\AgodaGit\\binance-trade-bot\\data2\\crypto_trading.db\")\n",
    "src_cursor = src_conn.cursor()\n",
    "\n",
    "# Connect to target database and retrieve cursor\n",
    "tgt_conn = sqlite3.connect(r\"C:\\AgodaGit\\binance-trade-bot\\data\\crypto_trading.db\")\n",
    "tgt_cursor = tgt_conn.cursor()\n",
    "\n",
    "# Define table names to copy\n",
    "table_names = [\"coins\", \"current_coin_history\", \"pairs\", \"trade_history\"]\n",
    "\n",
    "# Loop through each table and copy data\n",
    "for table_name in table_names:\n",
    "    # Delete existing data in target table\n",
    "    tgt_cursor.execute(f\"DELETE FROM {table_name}\")\n",
    "\n",
    "    # Copy data from source table to target table\n",
    "    print(f'Copying from {table_name}')\n",
    "    src_cursor.execute(f\"SELECT * FROM {table_name}\")\n",
    "    rows = src_cursor.fetchall()\n",
    "    tgt_cursor.executemany(f\"INSERT INTO {table_name} VALUES ({','.join('?' * len(rows[0]))})\", rows)\n",
    "\n",
    "# Commit changes and close connections\n",
    "tgt_conn.commit()\n",
    "tgt_conn.close()\n",
    "src_conn.close()"
   ],
   "metadata": {
    "collapsed": false,
    "pycharm": {
     "name": "#%%\n"
    }
   }
  },
  {
   "cell_type": "code",
   "execution_count": null,
   "outputs": [],
   "source": [],
   "metadata": {
    "collapsed": false,
    "pycharm": {
     "name": "#%%\n"
    }
   }
  }
 ],
 "metadata": {
  "kernelspec": {
   "name": "binance-trade-bot",
   "language": "python",
   "display_name": "PyCharm (binance-trade-bot)"
  },
  "language_info": {
   "codemirror_mode": {
    "name": "ipython",
    "version": 2
   },
   "file_extension": ".py",
   "mimetype": "text/x-python",
   "name": "python",
   "nbconvert_exporter": "python",
   "pygments_lexer": "ipython2",
   "version": "2.7.6"
  }
 },
 "nbformat": 4,
 "nbformat_minor": 0
}