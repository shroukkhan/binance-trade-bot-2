{
 "cells": [
  {
   "cell_type": "code",
   "execution_count": null,
   "metadata": {
    "pycharm": {
     "is_executing": true
    }
   },
   "outputs": [],
   "source": [
    "\n",
    "import configparser\n",
    "from datetime import datetime, timedelta\n",
    "\n",
    "import matplotlib.pyplot as plt\n",
    "import pandas as pd\n",
    "import seaborn as sn\n",
    "from binance.client import Client"
   ]
  },
  {
   "cell_type": "code",
   "execution_count": null,
   "metadata": {},
   "outputs": [],
   "source": [
    "CFG_FL_NAME = \"../user.cfg\"\n",
    "USER_CFG_SECTION = \"binance_user_config\"\n",
    "config = configparser.ConfigParser()\n",
    "config.read(CFG_FL_NAME)\n",
    "\n",
    "api_key = config.get(USER_CFG_SECTION, \"api_key\")\n",
    "api_secret = config.get(USER_CFG_SECTION, \"api_secret_key\")\n",
    "client = Client(api_key, api_secret)"
   ]
  },
  {
   "cell_type": "code",
   "execution_count": null,
   "metadata": {},
   "outputs": [],
   "source": [
    "def get_ticker_price(ticker_symbol: str, days:int ):\n",
    "    \"\"\"\n",
    "    Get ticker price of a specific coin\n",
    "    \"\"\"\n",
    "\n",
    "    target_date = (datetime.now() -timedelta(days = days)).strftime(\"%d %b %Y %H:%M:%S\")\n",
    "    key = f\"{ticker_symbol}\"\n",
    "    end_date = datetime.now() \n",
    "    end_date = end_date.strftime(\"%d %b %Y %H:%M:%S\")\n",
    "    \n",
    "    coindata = pd.DataFrame(columns = [key])\n",
    "    \n",
    "    prices = []\n",
    "    dates = []\n",
    "    for result in client.get_historical_klines(\n",
    "        ticker_symbol, \"1m\", target_date, end_date, limit=1000\n",
    "        ):\n",
    "        date = datetime.utcfromtimestamp(result[0] / 1000).strftime(\"%d %b %Y %H:%M:%S\")\n",
    "        price = float(result[1])\n",
    "        dates.append(date)\n",
    "        prices.append(price)\n",
    "\n",
    "    coindata[key] = prices\n",
    "    coindata['date'] = dates\n",
    "\n",
    "    return(coindata.reindex(columns =['date',key]))"
   ]
  },
  {
   "cell_type": "code",
   "execution_count": null,
   "metadata": {},
   "outputs": [],
   "source": [
    "# Grab coin prices from binance server \n",
    "# Add your own obviously\n",
    "\n",
    "\n",
    "coinIDs = set(line.strip() for line in open('../supported_coin_list'))\n",
    "\n",
    "cointickers = [coin + 'USDT' for coin in coinIDs]\n",
    "\n",
    "### Set Period here, this is the number of days of data you want to download for each coin ###\n",
    "num_days = 1\n",
    "###\n",
    "\n",
    "#Create initial df with first coin then fill with all from list\n",
    "\n",
    "coindata = get_ticker_price(cointickers[0], num_days)\n",
    "\n",
    "for tick in cointickers[1:]:\n",
    "    newdata = get_ticker_price(tick, num_days)\n",
    "    coindata = pd.merge(coindata, newdata)\n",
    "\n"
   ]
  },
  {
   "cell_type": "code",
   "execution_count": null,
   "metadata": {},
   "outputs": [],
   "source": [
    "## Sanity checker, Are we getting the data? Let's plot it\n",
    "\n",
    "def plotmovement(x1, y1,ticker):\n",
    "    '''\n",
    "    plots the noise of two coins \n",
    "    '''\n",
    "    fig = plt.figure(figsize=(20,8))\n",
    "    plt.plot( x1, y1,label=ticker)\n",
    "    plt.legend()\n",
    "\n",
    "## Too much data so lets just plot a subset.\n",
    "    \n",
    "start = 0\n",
    "end = 200\n",
    "\n",
    "fig = plt.figure(figsize=(20,8))\n",
    "coindata.plot('date','BTCUSDT',figsize = (16,8),)"
   ]
  },
  {
   "cell_type": "code",
   "execution_count": null,
   "metadata": {},
   "outputs": [],
   "source": [
    "# print correlation table\n",
    "\n",
    "coindata.corr()"
   ]
  },
  {
   "cell_type": "code",
   "execution_count": null,
   "metadata": {},
   "outputs": [],
   "source": [
    "## Correlation matrix for raw data. \n",
    "\n",
    "corrMatrix = coindata.corr()\n",
    "fig = plt.figure(figsize=(20,20))\n",
    "sn.heatmap(corrMatrix, annot=True)\n",
    "plt.title('Correlation for raw data ')\n",
    "plt.show()"
   ]
  },
  {
   "cell_type": "code",
   "execution_count": null,
   "metadata": {},
   "outputs": [],
   "source": [
    "### Detrend the data using first difference \n",
    "### more info at https://youtu.be/nPYPyh20gGo\n",
    "\n",
    "detrendeddata = pd.DataFrame()\n",
    "\n",
    "for column in coindata:\n",
    "    if column != 'date':\n",
    "        detrendeddata[column] = coindata[column].diff(1)\n",
    "        \n",
    "corrMatrix = detrendeddata.corr()\n",
    "fig = plt.figure(figsize=(20,20))\n",
    "sn.heatmap(corrMatrix, annot=True)\n",
    "plt.title('Correlation for detrended data (diff=1)')\n",
    "plt.show()"
   ]
  },
  {
   "cell_type": "code",
   "execution_count": null,
   "metadata": {
    "scrolled": true
   },
   "outputs": [],
   "source": [
    "### Detrend the data using rolling average\n",
    "radf = pd.DataFrame()\n",
    "\n",
    "for column in coindata:\n",
    "    if column != 'date':\n",
    "        radf[column] = coindata[column]-coindata[column].rolling(window=3).mean()\n",
    "        \n",
    "corrMatrix = radf.corr()\n",
    "fig = plt.figure(figsize=(20,20))\n",
    "sn.heatmap(corrMatrix, annot=True)\n",
    "plt.title('Correlation for detrended data (diff=1)')\n",
    "plt.show()"
   ]
  },
  {
   "cell_type": "code",
   "execution_count": null,
   "metadata": {},
   "outputs": [],
   "source": [
    "### Examine the trend of the rolling average\n",
    "\n",
    "radf2 = pd.DataFrame()\n",
    "\n",
    "for column in coindata:\n",
    "    if column != 'date':\n",
    "        radf2[column] = coindata[column].rolling(window=3).mean()\n",
    "\n",
    "corrMatrix = radf2.corr()\n",
    "fig = plt.figure(figsize=(20,20))\n",
    "sn.heatmap(corrMatrix, annot=True)\n",
    "plt.title('Correlation for detrended data (diff=1)')\n",
    "plt.show()"
   ]
  },
  {
   "cell_type": "code",
   "execution_count": null,
   "metadata": {
    "collapsed": false,
    "jupyter": {
     "outputs_hidden": false
    }
   },
   "outputs": [],
   "source": []
  }
 ],
 "metadata": {
  "kernelspec": {
   "name": "python3",
   "language": "python",
   "display_name": "Python 3 (ipykernel)"
  },
  "language_info": {
   "codemirror_mode": {
    "name": "ipython",
    "version": 3
   },
   "file_extension": ".py",
   "mimetype": "text/x-python",
   "name": "python",
   "nbconvert_exporter": "python",
   "pygments_lexer": "ipython3",
   "version": "3.8.10"
  }
 },
 "nbformat": 4,
 "nbformat_minor": 4
}
